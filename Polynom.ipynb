{
 "cells": [
  {
   "cell_type": "code",
   "execution_count": 23,
   "id": "e988d8fc",
   "metadata": {
    "scrolled": false
   },
   "outputs": [
    {
     "name": "stdout",
     "output_type": "stream",
     "text": [
      "21\n",
      "[0.0, 0.1, 0.2, 0.3, 0.4, 0.5, 0.6, 0.7, 0.8, 0.9, 1.0, 1.1, 1.2, 1.3, 1.4, 1.5, 1.6, 1.7, 1.8, 1.9, 2.0] \n",
      "\n",
      "polynomial vector:  [ 1.03710204e+04 -9.43906978e+04 -1.53417006e+05  6.66926232e+06\n",
      " -4.88629676e+07  2.05642075e+08 -5.90809578e+08  1.24040579e+09\n",
      " -1.97006076e+09  2.41182981e+09 -2.29723928e+09  1.70655630e+09\n",
      " -9.85315275e+08  4.37948368e+08 -1.47364627e+08  3.65584666e+07\n",
      " -6.41539482e+06  7.44149101e+05 -5.03744563e+04  1.47474358e+03\n",
      "  0.00000000e+00]\n"
     ]
    }
   ],
   "source": [
    "import numpy as np\n",
    "\n",
    "data = open(\"data.txt\", \"r\");\n",
    "x = []\n",
    "y = []\n",
    "i = 0\n",
    "\n",
    "for line in data:\n",
    "    line = line.replace(\"\\n\", \"\")\n",
    "    line = line.replace(\",\", \".\")\n",
    "    if (i % 2) == 0:\n",
    "        \n",
    "        x.append(float(line))\n",
    "    else:\n",
    "        y.append(float(line))\n",
    "    i = i+1\n",
    "    \n",
    "print(len(x))\n",
    "Aj = []\n",
    "#A = np.array()\n",
    "k = 0\n",
    "j = 0\n",
    "print(x, \"\\n\")\n",
    "for k in range(i//2):\n",
    "    for j in range(i//2):\n",
    "        Aj.append(pow(x[k], j))\n",
    "    #print(Ajn, \"\\n\")\n",
    "    #np.append(A, Aj)\n",
    "    #Aj = []\n",
    "Ajn = np.array(Aj)\n",
    "A = Ajn.reshape(21, 21)\n",
    "b = np.array(y)\n",
    "\n",
    "c = np.linalg.solve(A, b)\n",
    "#print(A, \"\\n\", \"C = \", c)\n",
    "\n",
    "print(\"polynomial vector: \", c[::-1]) \n",
    "\n",
    "\n",
    "    \n",
    "#print(A)\n",
    "#print(y)"
   ]
  },
  {
   "cell_type": "code",
   "execution_count": 21,
   "id": "041a3192",
   "metadata": {},
   "outputs": [
    {
     "name": "stdout",
     "output_type": "stream",
     "text": [
      "# This is a polynomial of order 22.\n"
     ]
    },
    {
     "data": {
      "image/png": "[encoded data removed]",
      "text/plain": [
       "<Figure size 640x480 with 1 Axes>"
      ]
     },
     "metadata": {},
     "output_type": "display_data"
    }
   ],
   "source": [
    "from matplotlib import pyplot as plt\n",
    "\n",
    "def PolyCoefficients(x, coeffs):\n",
    "    \"\"\" Returns a polynomial for ``x`` values for the ``coeffs`` provided.\n",
    "\n",
    "    The coefficients must be in ascending order (``x**0`` to ``x**o``).\n",
    "    \"\"\"\n",
    "    o = len(coeffs)\n",
    "    print(f'# This is a polynomial of order {o}.')\n",
    "    y = 0\n",
    "    for i in range(o):\n",
    "        y += coeffs[i]*x**i\n",
    "    return y\n",
    "\n",
    "x = np.linspace(-10, 10, 100)\n",
    "c1 = [1, 0, 0, 0]\n",
    "c = np.insert(c, 0, 0)\n",
    "\n",
    "#y = np.polyval(c1, x)\n",
    "plt.plot(x, PolyCoefficients(x, c))\n",
    "plt.show()\n",
    "#plt.plot(x, y, '-r')"
   ]
  },
  {
   "cell_type": "code",
   "execution_count": null,
   "id": "414bdc6c",
   "metadata": {},
   "outputs": [],
   "source": []
  },
  {
   "cell_type": "code",
   "execution_count": null,
   "id": "82052ad3",
   "metadata": {},
   "outputs": [],
   "source": []
  },
  {
   "cell_type": "code",
   "execution_count": null,
   "id": "5d03d28b",
   "metadata": {},
   "outputs": [],
   "source": []
  }
 ],
 "metadata": {
  "kernelspec": {
   "display_name": "Python 3 (ipykernel)",
   "language": "python",
   "name": "python3"
  },
  "language_info": {
   "codemirror_mode": {
    "name": "ipython",
    "version": 3
   },
   "file_extension": ".py",
   "mimetype": "text/x-python",
   "name": "python",
   "nbconvert_exporter": "python",
   "pygments_lexer": "ipython3",
   "version": "3.9.0"
  }
 },
 "nbformat": 4,
 "nbformat_minor": 5
}
